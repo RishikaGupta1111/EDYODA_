{
  "nbformat": 4,
  "nbformat_minor": 0,
  "metadata": {
    "colab": {
      "provenance": []
    },
    "kernelspec": {
      "name": "python3",
      "display_name": "Python 3"
    },
    "language_info": {
      "name": "python"
    }
  },
  "cells": [
    {
      "cell_type": "markdown",
      "source": [
        "Q10. Write a program to find the smallest number using a stack."
      ],
      "metadata": {
        "id": "Xvjim2PHu4Op"
      }
    },
    {
      "cell_type": "code",
      "source": [
        "stack = []\n"
      ],
      "metadata": {
        "id": "g0ceJnlEpGvF"
      },
      "execution_count": null,
      "outputs": []
    },
    {
      "cell_type": "code",
      "source": [
        "def push():\n",
        "  element=input(\"ENTER THE ELEMENT YOU WANT TO ADD IN THE STACK\")\n",
        "  stack.append(element)\n",
        "  print(stack)"
      ],
      "metadata": {
        "id": "A1GPHMKLpGy_"
      },
      "execution_count": null,
      "outputs": []
    },
    {
      "cell_type": "code",
      "source": [
        "def pop():\n",
        "  if not stack:\n",
        "    print(\"THE STACK IS EMPTY\")\n",
        "  else:\n",
        "    e = stack.pop()\n",
        "    print('REMOVED ITEM:', e)\n",
        "    print(stack)"
      ],
      "metadata": {
        "id": "CqmrsyFPpG4N"
      },
      "execution_count": null,
      "outputs": []
    },
    {
      "cell_type": "code",
      "source": [
        "def getmin():\n",
        "  smallest = stack[0]\n",
        "  for item in stack:\n",
        "    if item < smallest:\n",
        "      smallest = item\n",
        "      print(\"SMALLEST ELEMENT IN STACK IS:\", smallest) "
      ],
      "metadata": {
        "id": "LbIYGgnwrY57"
      },
      "execution_count": null,
      "outputs": []
    },
    {
      "cell_type": "code",
      "source": [
        "while True:\n",
        "  print('PLEASE SELECT THE OPERATION\\n1.PUSH 2.POP 3.GET MINIMUM VALUE 4.EXIT')\n",
        "  y = int(input())\n",
        "  if y==1:\n",
        "    push()\n",
        "  elif y==2:\n",
        "    pop()\n",
        "  elif y==3:\n",
        "    getmin()\n",
        "  elif y==4:\n",
        "    break\n",
        "  else:\n",
        "    print(\"CHOOSE A VALID OPTION\")"
      ],
      "metadata": {
        "id": "PjA5Yw0IrrGP"
      },
      "execution_count": null,
      "outputs": []
    }
  ]
}