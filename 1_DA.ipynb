{
  "nbformat": 4,
  "nbformat_minor": 0,
  "metadata": {
    "colab": {
      "provenance": [],
      "authorship_tag": "ABX9TyNcwt1LtjtlQtK/JMVAXepv",
      "include_colab_link": true
    },
    "kernelspec": {
      "name": "python3",
      "display_name": "Python 3"
    },
    "language_info": {
      "name": "python"
    }
  },
  "cells": [
    {
      "cell_type": "markdown",
      "metadata": {
        "id": "view-in-github",
        "colab_type": "text"
      },
      "source": [
        "<a href=\"https://colab.research.google.com/github/RishikaGupta1111/EDYODA_/blob/main/1_DA.ipynb\" target=\"_parent\"><img src=\"https://colab.research.google.com/assets/colab-badge.svg\" alt=\"Open In Colab\"/></a>"
      ]
    },
    {
      "cell_type": "code",
      "execution_count": null,
      "metadata": {
        "id": "rFYr8SXNrZU7"
      },
      "outputs": [],
      "source": [
        "import pandas as pd\n",
        "import numpy as np\n",
        "\n",
        "df = pd.DataFrame({'ship_mode': ['Same Day', 'First Class', 'Standard Class', 'Other'],\n",
        "                   'sales': [100, 200, 300, 400],\n",
        "                   'profit': [10, 20, 30, 40]})\n",
        "\n",
        "df['surcharge'] = np.where(df['ship_mode'] == 'Same Day', 0.2,\n",
        "                         np.where(df['ship_mode'] == 'First Class', 0.1,\n",
        "                                  np.where(df['ship_mode'] == 'Standard Class', 0.05, 0)))\n",
        "\n",
        "df['total_cost'] = (df['sales'] - df['profit']) * (1 + df['surcharge'])\n",
        "\n",
        "print(df)"
      ]
    }
  ]
}