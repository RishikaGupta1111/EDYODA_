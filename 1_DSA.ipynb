{
  "nbformat": 4,
  "nbformat_minor": 0,
  "metadata": {
    "colab": {
      "provenance": []
    },
    "kernelspec": {
      "name": "python3",
      "display_name": "Python 3"
    },
    "language_info": {
      "name": "python"
    }
  },
  "cells": [
    {
      "cell_type": "markdown",
      "source": [
        "**Q1. Write a program to find all pairs of an integer array whose sum is equal to a given number?**"
      ],
      "metadata": {
        "id": "nqmmjd6DTd84"
      }
    },
    {
      "cell_type": "code",
      "source": [
        "def printPairs(arr, n, sum):\n",
        "\n",
        "\t# count = 0\n",
        "\n",
        "\t# Consider all possible\n",
        "\t# pairs and check their sums\n",
        "\tfor i in range(0, n ):\n",
        "\t\tfor j in range(i + 1, n ):\n",
        "\t\t\tif (arr[i] + arr[j] == sum):\n",
        "\t\t\t\tprint(\"(\", arr[i],\n",
        "\t\t\t\t\t\", \", arr[j],\n",
        "\t\t\t\t\t\")\", sep = \"\")\n",
        "\n",
        "\n",
        "# Driver Code\n",
        "arr = [1, 5, 7, -1, 5, 3, 4, 6, 0, 8]\n",
        "n = len(arr)\n",
        "sum = 6\n",
        "print(\"POSSIBLE PAIRS WHOSE SUM IS 6 FROM THE GIVEN ARRAY ARE-\")\n",
        "printPairs(arr, n, sum)\n",
        "\n"
      ],
      "metadata": {
        "id": "QsuuhLCxXGFG"
      },
      "execution_count": null,
      "outputs": []
    }
  ]
}