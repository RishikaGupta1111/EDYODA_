{
  "nbformat": 4,
  "nbformat_minor": 0,
  "metadata": {
    "colab": {
      "provenance": []
    },
    "kernelspec": {
      "name": "python3",
      "display_name": "Python 3"
    },
    "language_info": {
      "name": "python"
    }
  },
  "cells": [
    {
      "cell_type": "markdown",
      "source": [
        "**QUESTION 1**\n",
        "WRITE A PYTHON PROGRAM TO GET THE FIBONACCI SERIES BETWEEN 0 TO 50."
      ],
      "metadata": {
        "id": "o6yMSZlPD-YP"
      }
    },
    {
      "cell_type": "markdown",
      "source": [
        "Fibonacci series is basically a series of numbers where the previous two numbers add up to form the next one and the process keeps on repeating till the series is terminated.\n"
      ],
      "metadata": {
        "id": "Kxdua5nmEX8g"
      }
    },
    {
      "cell_type": "markdown",
      "source": [
        "CODE FOR THE GIVEN PROBLEM-"
      ],
      "metadata": {
        "id": "rRrijtsrEtko"
      }
    },
    {
      "cell_type": "code",
      "source": [
        "first_number = 0 - 1                     #To start our series with, we will initialize first two numbers.\n",
        "second_number = 1 \n",
        "\n",
        "for i in range(0, 10):                   #We will run for loop to get required iterations.\n",
        "    sum = first_number + second_number\n",
        "    print(sum, end=' ')\n",
        "    first_number = second_number        #Here we have updated our values so that every time our loop runs,\n",
        "    second_number = sum                 #new value gets updated to existing variable.\n",
        "    sum = first_number + second_number"
      ],
      "metadata": {
        "colab": {
          "base_uri": "https://localhost:8080/"
        },
        "id": "M7KFs8kcE2rs",
        "outputId": "f1627d3b-d3b6-4d63-cda5-55d370acbb5c"
      },
      "execution_count": 1,
      "outputs": [
        {
          "output_type": "stream",
          "name": "stdout",
          "text": [
            "0 1 1 2 3 5 8 13 21 34 "
          ]
        }
      ]
    }
  ]
}