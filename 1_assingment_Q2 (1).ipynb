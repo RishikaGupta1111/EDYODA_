{
  "nbformat": 4,
  "nbformat_minor": 0,
  "metadata": {
    "colab": {
      "provenance": []
    },
    "kernelspec": {
      "name": "python3",
      "display_name": "Python 3"
    },
    "language_info": {
      "name": "python"
    }
  },
  "cells": [
    {
      "cell_type": "markdown",
      "source": [
        "**QUESTION 2 (SEND THE WORDS TO ITS MIRROR DIMENSION)**\n",
        "WRITE A PYTHON PROGRAM THAT ACCEPTS THE WORD FROM THE USER AND THEN REVERSES IT.\n",
        "\n",
        "Code for this given problem can be constructed using a for loop.\n",
        "\n",
        "---\n",
        "\n"
      ],
      "metadata": {
        "id": "o6yMSZlPD-YP"
      }
    },
    {
      "cell_type": "markdown",
      "source": [
        "CODE FOR THE GIVEN PROBLEM-"
      ],
      "metadata": {
        "id": "rRrijtsrEtko"
      }
    },
    {
      "cell_type": "code",
      "source": [
        "str = \"Edyoda\"                                 #here we have entered sample test case\n",
        "reversedword = \"\"\n",
        "\n",
        "for i in str:                                  #using for loop to print reversed word\n",
        "  reversedword = i + reversedword\n",
        "\n",
        "print('THE ORIGINAL WORD IS -', str)                   #this will show original word\n",
        "print('THE MIRROR DIMENSION OF WORD IS-', reversedword) #this will show reversed word\n"
      ],
      "metadata": {
        "id": "COPCKRQORGIW"
      },
      "execution_count": null,
      "outputs": []
    }
  ]
}