{
  "nbformat": 4,
  "nbformat_minor": 0,
  "metadata": {
    "colab": {
      "provenance": []
    },
    "kernelspec": {
      "name": "python3",
      "display_name": "Python 3"
    },
    "language_info": {
      "name": "python"
    }
  },
  "cells": [
    {
      "cell_type": "markdown",
      "source": [
        "**QUESTION 3 (Don't go outside in odd day)**\n",
        "WRITE A PYTHON PROGRAM TO COUNT THE NUMBER OF EVEN AND ODD NUMBERS FROM A SERIES OF NUMBERS.\n",
        "\n",
        "---\n",
        "\n"
      ],
      "metadata": {
        "id": "o6yMSZlPD-YP"
      }
    },
    {
      "cell_type": "markdown",
      "source": [
        "CODE FOR THE GIVEN PROBLEM-"
      ],
      "metadata": {
        "id": "rRrijtsrEtko"
      }
    },
    {
      "cell_type": "code",
      "source": [
        "a = [1, 2, 3, 3, 5, 6, 7, 8, 9, 10, 11, 12, 13,14]  #this is a series of even and odd numbers.\n",
        "b = []\n",
        "c = []\n",
        "for i in a:\n",
        "    if i % 2== 0:\n",
        "        b.append(i)\n",
        "    else:\n",
        "        c.append(i)\n",
        "print('EVEN NUMBERS ARE', (b))                     \n",
        "print('ODD NUMBERS ARE', (c))\n",
        "d = len(b)\n",
        "e = len(c)\n",
        "print('number of even numbers-', (d))             #here we will get the count of even numbers.\n",
        "print('number of odd numbers-', (e))              #here we will get count of odd numbers."
      ],
      "metadata": {
        "colab": {
          "base_uri": "https://localhost:8080/"
        },
        "id": "KMJcbGytIbnP",
        "outputId": "f2366de5-7460-4c54-b871-9d2e93a0ccd0"
      },
      "execution_count": 2,
      "outputs": [
        {
          "output_type": "stream",
          "name": "stdout",
          "text": [
            "EVEN NUMBERS ARE [2, 6, 8, 10, 12, 14]\n",
            "ODD NUMBERS ARE [1, 3, 3, 5, 7, 9, 11, 13]\n",
            "number of even numbers- 6\n",
            "number of odd numbers- 8\n"
          ]
        }
      ]
    }
  ]
}