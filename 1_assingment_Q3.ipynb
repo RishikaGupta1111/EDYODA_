{
  "nbformat": 4,
  "nbformat_minor": 0,
  "metadata": {
    "colab": {
      "provenance": []
    },
    "kernelspec": {
      "name": "python3",
      "display_name": "Python 3"
    },
    "language_info": {
      "name": "python"
    }
  },
  "cells": [
    {
      "cell_type": "markdown",
      "source": [
        "**QUESTION 2 (Don't go outside in odd day)**\n",
        "WRITE A PYTHON PROGRAM TO COUNT THE NUMBER OF EVEN AND ODD NUMBERS FROM A SERIES OF NUMBERS.\n",
        "\n",
        "---\n",
        "\n"
      ],
      "metadata": {
        "id": "o6yMSZlPD-YP"
      }
    },
    {
      "cell_type": "markdown",
      "source": [
        "CODE FOR THE GIVEN PROBLEM-"
      ],
      "metadata": {
        "id": "rRrijtsrEtko"
      }
    },
    {
      "cell_type": "code",
      "source": [
        "a = [1, 2, 3, 3, 5, 6, 7, 8, 9, 10, 11, 12, 13,14]  #this is a series of even and odd numbers.\n",
        "b = []\n",
        "c = []\n",
        "for i in a:\n",
        "    if i % 2== 0:\n",
        "        b.append(i)\n",
        "    else:\n",
        "        c.append(i)\n",
        "print('EVEN NUMBERS ARE', (b))                     \n",
        "print('ODD NUMBERS ARE', (c))\n",
        "d = len(b)\n",
        "e = len(c)\n",
        "print('number of even numbers-', (d))             #here we will get the count of even numbers.\n",
        "print('number of odd numbers-', (e))              #here we will get count of odd numbers."
      ],
      "metadata": {
        "id": "KMJcbGytIbnP"
      },
      "execution_count": null,
      "outputs": []
    }
  ]
}