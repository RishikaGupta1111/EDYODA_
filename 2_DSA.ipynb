{
  "nbformat": 4,
  "nbformat_minor": 0,
  "metadata": {
    "colab": {
      "provenance": []
    },
    "kernelspec": {
      "name": "python3",
      "display_name": "Python 3"
    },
    "language_info": {
      "name": "python"
    }
  },
  "cells": [
    {
      "cell_type": "markdown",
      "source": [
        "**Q2. Write a program to reverse an array in place? In place means you cannot create a new array. You have to update the original array.**"
      ],
      "metadata": {
        "id": "iLIkI56dKXdr"
      }
    },
    {
      "cell_type": "code",
      "source": [
        "arr=[1,2,45,67,8,90,54,21]\n",
        "print(\"ORIGINAL ARRAY\")\n",
        "for i in range(0, len(arr)):\n",
        "  print(arr[i], end=' ')\n",
        "print(\"\\n\\nREVERSED ARRAY\")\n",
        "for i in range(len(arr)-1,-1,-1):\n",
        "  print(arr[i], end=' ')\n",
        "\n",
        "\n"
      ],
      "metadata": {
        "id": "aKvdOia7LXCg"
      },
      "execution_count": null,
      "outputs": []
    }
  ]
}