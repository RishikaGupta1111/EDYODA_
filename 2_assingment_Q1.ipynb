{
  "nbformat": 4,
  "nbformat_minor": 0,
  "metadata": {
    "colab": {
      "provenance": []
    },
    "kernelspec": {
      "name": "python3",
      "display_name": "Python 3"
    },
    "language_info": {
      "name": "python"
    }
  },
  "cells": [
    {
      "cell_type": "markdown",
      "source": [
        "**Write a Python program to get a list, sorted in increasing order by the last element in each tuple from a given list of non-empty tuples.**\n",
        "\n",
        "Sample List : [(2, 5), (1, 2), (4, 4), (2, 3), (2, 1)]\n",
        "\n",
        "Expected Result : [(2, 1), (1, 2), (2, 3), (4, 4), (2, 5)]\n",
        "\n"
      ],
      "metadata": {
        "id": "fXi_-Sl5AF7D"
      }
    },
    {
      "cell_type": "markdown",
      "source": [
        "The code for above given problem can be formed as follows-"
      ],
      "metadata": {
        "id": "Q2HCe2QiAPqp"
      }
    },
    {
      "cell_type": "code",
      "execution_count": null,
      "metadata": {
        "id": "W4kBjxa9AElG"
      },
      "outputs": [],
      "source": [
        "def last_item(n):                                      \n",
        "    return n[-1]  \n",
        "def sorted_list(tuples):\n",
        "    return sorted(tuples, key=last_item)\n",
        "a=[(2, 5), (1, 2), (4, 4), (2, 3), (2, 1)]\n",
        "print('Sample_list:', a)\n",
        "print(\"Sorted_list:\")\n",
        "print(sorted_list(a))"
      ]
    }
  ]
}