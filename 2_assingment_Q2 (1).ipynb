{
  "nbformat": 4,
  "nbformat_minor": 0,
  "metadata": {
    "colab": {
      "provenance": []
    },
    "kernelspec": {
      "name": "python3",
      "display_name": "Python 3"
    },
    "language_info": {
      "name": "python"
    }
  },
  "cells": [
    {
      "cell_type": "markdown",
      "source": [
        "**Write a Python program to print a dictionary whose keys should be the alphabet from a-z and the value should be corresponding ASCII values**\n",
        "\n",
        "Sample Output : {'a': 97, 'b': 98, 'c': 99, 'd': 100, 'e': 101, 'f': 102, 'g': 103, 'h': 104, 'i': 105, 'j': 106, 'k': 107, 'l': 108, 'm': 109, 'n': 110, 'o': 111, 'p': 112, 'q': 113, 'r': 114, 's': 115, 't': 116, 'u': 117, 'v': 118, 'w': 119, 'x': 120, 'y': 121, 'z': 122}\n",
        "\n"
      ],
      "metadata": {
        "id": "fXi_-Sl5AF7D"
      }
    },
    {
      "cell_type": "markdown",
      "source": [
        "The code for above given problem can be formed as follows-"
      ],
      "metadata": {
        "id": "Q2HCe2QiAPqp"
      }
    },
    {
      "cell_type": "code",
      "execution_count": null,
      "metadata": {
        "id": "W4kBjxa9AElG"
      },
      "outputs": [],
      "source": [
        "d = dict()                                      #here we have imported a dictionary\n",
        "import string                    \n",
        "for i in string.ascii_lowercase:                #this gives us letters from a to z\n",
        "    d[i]= ord(i)\n",
        "print('MY MINI DICTIONARY IS-', d)"
      ]
    }
  ]
}
