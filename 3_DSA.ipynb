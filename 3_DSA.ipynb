{
  "nbformat": 4,
  "nbformat_minor": 0,
  "metadata": {
    "colab": {
      "provenance": []
    },
    "kernelspec": {
      "name": "python3",
      "display_name": "Python 3"
    },
    "language_info": {
      "name": "python"
    }
  },
  "cells": [
    {
      "cell_type": "markdown",
      "source": [
        "**Q3. Write a program to check if two strings are a rotation of each other?**"
      ],
      "metadata": {
        "id": "oumojEaPo8cd"
      }
    },
    {
      "cell_type": "code",
      "source": [
        " \n",
        "def check_rotation(s, goal):\n",
        " \n",
        "    if (len(s) != len(goal)):\n",
        "        skip\n",
        " \n",
        "    q1 = []\n",
        "    for i in range(len(s)):\n",
        "        q1.insert(0, s[i])\n",
        " \n",
        "    q2 = []\n",
        "    for i in range(len(goal)):\n",
        "        q2.insert(0, goal[i])\n",
        " \n",
        "    k = len(goal)\n",
        "    while (k > 0):\n",
        "        ch = q2[0]\n",
        "        q2.pop(0)\n",
        "        q2.append(ch)\n",
        "        if (q2 == q1):\n",
        "            return True\n",
        " \n",
        "        k -= 1\n",
        " \n",
        "    return False\n",
        " \n",
        " \n",
        "# Driver code\n",
        "if __name__ == \"__main__\":\n",
        " \n",
        "    string1 = \"AACD\"\n",
        "    string2 = \"ACDA\"\n",
        " \n",
        "    # Function call\n",
        "    if check_rotation(string1, string2):\n",
        "        print(\"Strings are rotations of each other\")\n",
        "    else:\n",
        "        print(\"Strings are not rotations of each other\")\n",
        " \n",
        "    "
      ],
      "metadata": {
        "colab": {
          "base_uri": "https://localhost:8080/"
        },
        "id": "Icvboklio9kf",
        "outputId": "b31addd3-a510-4fe8-94eb-4c1cbdc7e751"
      },
      "execution_count": 4,
      "outputs": [
        {
          "output_type": "stream",
          "name": "stdout",
          "text": [
            "Strings are rotations of each other\n"
          ]
        }
      ]
    }
  ]
}