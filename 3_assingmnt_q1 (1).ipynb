{
  "nbformat": 4,
  "nbformat_minor": 0,
  "metadata": {
    "colab": {
      "provenance": []
    },
    "kernelspec": {
      "name": "python3",
      "display_name": "Python 3"
    },
    "language_info": {
      "name": "python"
    }
  },
  "cells": [
    {
      "cell_type": "markdown",
      "source": [
        "**Write a Python function to sum all the numbers in a list.**"
      ],
      "metadata": {
        "id": "EPmeXiklEng9"
      }
    },
    {
      "cell_type": "markdown",
      "source": [
        "Code for the given problem can be formed as follows:"
      ],
      "metadata": {
        "id": "-EYfsVWmEntE"
      }
    },
    {
      "cell_type": "code",
      "source": [
        "n = int(input('HOW MANY NUMBERS DO YOU WANT IN THE LIST:'))     #This will take input from user\n",
        "def summ(n):\n",
        "  list = []\n",
        "  sum_list = 0\n",
        "  for i in range(n):\n",
        "    list.append(int(input()))\n",
        "  for i in list:\n",
        "    sum_list = sum_list + i\n",
        "  return sum_list                                        \n",
        "\n",
        "print('sum of list is', summ(n))"
      ],
      "metadata": {
        "id": "MQ5NPwyJEtiu"
      },
      "execution_count": null,
      "outputs": []
    }
  ]
}