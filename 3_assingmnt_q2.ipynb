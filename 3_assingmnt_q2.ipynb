{
  "nbformat": 4,
  "nbformat_minor": 0,
  "metadata": {
    "colab": {
      "provenance": []
    },
    "kernelspec": {
      "name": "python3",
      "display_name": "Python 3"
    },
    "language_info": {
      "name": "python"
    }
  },
  "cells": [
    {
      "cell_type": "markdown",
      "source": [
        "**Write a Python program to reverse a string..**"
      ],
      "metadata": {
        "id": "mX5WQDJkNHRE"
      }
    },
    {
      "cell_type": "markdown",
      "source": [
        "A python function for above problem can be constructed as follows:"
      ],
      "metadata": {
        "id": "IIQozBo_NIka"
      }
    },
    {
      "cell_type": "code",
      "source": [
        "def reverse(string):\n",
        "    string = string[::-1]\n",
        "    return string\n",
        "  \n",
        "s = input('ENTER ANY STRING')\n",
        "  \n",
        "print(\"The original string is : \", end=\"\")\n",
        "print(s)\n",
        "  \n",
        "print(\"The reversed string is : \", end=\"\")\n",
        "print(reverse(s))\n"
      ],
      "metadata": {
        "id": "sDsjYA-fNOhd"
      },
      "execution_count": null,
      "outputs": []
    }
  ]
}