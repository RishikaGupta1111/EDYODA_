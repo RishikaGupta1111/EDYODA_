{
  "nbformat": 4,
  "nbformat_minor": 0,
  "metadata": {
    "colab": {
      "provenance": []
    },
    "kernelspec": {
      "name": "python3",
      "display_name": "Python 3"
    },
    "language_info": {
      "name": "python"
    }
  },
  "cells": [
    {
      "cell_type": "markdown",
      "source": [
        "**Write a Python function that accepts a string and calculate the number of upper case letters and lower case letters.**"
      ],
      "metadata": {
        "id": "mX5WQDJkNHRE"
      }
    },
    {
      "cell_type": "markdown",
      "source": [
        "A python function for above problem can be constructed as follows:"
      ],
      "metadata": {
        "id": "IIQozBo_NIka"
      }
    },
    {
      "cell_type": "code",
      "source": [
        "def string_test(a):\n",
        "    d={\"UPPER_CASE\":0, \"LOWER_CASE\":0}\n",
        "    for c in a:\n",
        "        if c.isupper():\n",
        "           d[\"UPPER_CASE\"]+=1\n",
        "        elif c.islower():\n",
        "           d[\"LOWER_CASE\"]+=1\n",
        "        else:\n",
        "           pass\n",
        "    print (\"Original String : \", a)\n",
        "    print (\"No. of Upper case characters : \", d[\"UPPER_CASE\"])\n",
        "    print (\"No. of Lower case Characters : \", d[\"LOWER_CASE\"])\n",
        " #Call the function and enter the desired input."
      ],
      "metadata": {
        "id": "sDsjYA-fNOhd"
      },
      "execution_count": 25,
      "outputs": []
    }
  ]
}