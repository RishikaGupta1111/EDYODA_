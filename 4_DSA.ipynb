{
  "nbformat": 4,
  "nbformat_minor": 0,
  "metadata": {
    "colab": {
      "provenance": []
    },
    "kernelspec": {
      "name": "python3",
      "display_name": "Python 3"
    },
    "language_info": {
      "name": "python"
    }
  },
  "cells": [
    {
      "cell_type": "markdown",
      "source": [
        "**Q4. Write a program to print the first non-repeated character from a string?**"
      ],
      "metadata": {
        "id": "NeWCRS-i4lCZ"
      }
    },
    {
      "cell_type": "code",
      "source": [
        "string = str(input(\"ENTER THE STRING YOU WANT TO TEST\"))\n",
        "index = -1\n",
        "f = \"\"\n",
        "for i in string:\n",
        "\tif string.count(i) == 1:\n",
        "\t\tf += i\n",
        "\t\tbreak\n",
        "\telse:\n",
        "\t\tindex += 1\n",
        "if index == 1:\n",
        "\tprint(\"THE STRING IS EMPTY OR ALL THE CHARACTERS ARE REPEATING\")\n",
        "else:\n",
        "\tprint(\"FIRST NON REPEATING CHARACTER IS\", f)\n"
      ],
      "metadata": {
        "id": "C26jcMeR4oiE"
      },
      "execution_count": null,
      "outputs": []
    }
  ]
}