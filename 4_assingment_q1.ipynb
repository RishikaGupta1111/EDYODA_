{
  "nbformat": 4,
  "nbformat_minor": 0,
  "metadata": {
    "colab": {
      "provenance": []
    },
    "kernelspec": {
      "name": "python3",
      "display_name": "Python 3"
    },
    "language_info": {
      "name": "python"
    }
  },
  "cells": [
    {
      "cell_type": "markdown",
      "source": [
        "**Write a Python program to create a lambda function that adds 25 to a given number passed in as an argument.**"
      ],
      "metadata": {
        "id": "b_EiIa7gE_Tl"
      }
    },
    {
      "cell_type": "markdown",
      "source": [
        "The Python program for above problem can be created as follows-"
      ],
      "metadata": {
        "id": "MiTL2Z2oFMXj"
      }
    },
    {
      "cell_type": "code",
      "source": [
        "num = lambda x : x + 25                                    #creates a lambda function.\n",
        "print(num(int(input('ENTER A NUMBER:'))))                  #takes input from the user."
      ],
      "metadata": {
        "id": "aHnP3GfSFC_A"
      },
      "execution_count": null,
      "outputs": []
    }
  ]
}