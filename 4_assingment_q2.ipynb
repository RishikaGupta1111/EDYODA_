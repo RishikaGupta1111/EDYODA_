{
  "nbformat": 4,
  "nbformat_minor": 0,
  "metadata": {
    "colab": {
      "provenance": []
    },
    "kernelspec": {
      "name": "python3",
      "display_name": "Python 3"
    },
    "language_info": {
      "name": "python"
    }
  },
  "cells": [
    {
      "cell_type": "markdown",
      "source": [
        "**Write a Python program to triple all numbers of a given list of integers. Use Python map.**"
      ],
      "metadata": {
        "id": "b_EiIa7gE_Tl"
      }
    },
    {
      "cell_type": "markdown",
      "source": [
        "The Python program for above problem can be created as follows-"
      ],
      "metadata": {
        "id": "MiTL2Z2oFMXj"
      }
    },
    {
      "cell_type": "code",
      "source": [
        "lst = []\n",
        "n = int(input('NUMBERS REQUIRED IN THE LIST:'))\n",
        "for i in range(0,n):\n",
        "  elements = int(input())\n",
        "  lst.append(elements)            #to enter a given list\n",
        "  \n",
        "\n",
        "given_list = lst\n",
        "result = tuple(map(lambda x: x + x + x, given_list))\n",
        "print('THE ORIGINAL LIST IS:', given_list)\n",
        "print('EXPECTED OUTPUT:', result)"
      ],
      "metadata": {
        "id": "aHnP3GfSFC_A"
      },
      "execution_count": null,
      "outputs": []
    }
  ]
}