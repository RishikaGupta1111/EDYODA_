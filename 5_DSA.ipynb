{
  "nbformat": 4,
  "nbformat_minor": 0,
  "metadata": {
    "colab": {
      "provenance": []
    },
    "kernelspec": {
      "name": "python3",
      "display_name": "Python 3"
    },
    "language_info": {
      "name": "python"
    }
  },
  "cells": [
    {
      "cell_type": "markdown",
      "source": [
        "**Q5. Read about the Tower of Hanoi algorithm. Write a program to implement it.**"
      ],
      "metadata": {
        "id": "oumojEaPo8cd"
      }
    },
    {
      "cell_type": "code",
      "source": [
        "def tower_of_hanoi(disks, source, auxiliary, target):  \n",
        "    if(disks == 1):  \n",
        "        print('Move disk 1 from rod {} to rod {}.'.format(source, target))  \n",
        "        return  \n",
        "    # function call itself  \n",
        "    tower_of_hanoi(disks - 1, source, target, auxiliary)  \n",
        "    print('Move disk {} from rod {} to rod {}.'.format(disks, source, target))  \n",
        "    tower_of_hanoi(disks - 1, auxiliary, source, target)  \n",
        "  \n",
        "  \n",
        "disks = int(input('Enter the number of disks: '))  \n",
        "  \n",
        "tower_of_hanoi(disks, 'A', 'B', 'C')  "
      ],
      "metadata": {
        "id": "RpSmBRXZtBVn"
      },
      "execution_count": null,
      "outputs": []
    }
  ]
}