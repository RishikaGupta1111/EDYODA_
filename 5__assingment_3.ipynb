{
  "nbformat": 4,
  "nbformat_minor": 0,
  "metadata": {
    "colab": {
      "provenance": []
    },
    "kernelspec": {
      "name": "python3",
      "display_name": "Python 3"
    },
    "language_info": {
      "name": "python"
    }
  },
  "cells": [
    {
      "cell_type": "markdown",
      "source": [
        "**Challenge 3: Implement the Complete Student Class**"
      ],
      "metadata": {
        "id": "_7HrZGqn2Y2q"
      }
    },
    {
      "cell_type": "markdown",
      "source": [
        "Code for the above problem can be constructed as follows-"
      ],
      "metadata": {
        "id": "3j8GgUbl2m55"
      }
    },
    {
      "cell_type": "code",
      "source": [
        "class Student:\n",
        "\n",
        "    def setName(self, name):\n",
        "        self.__name = name\n",
        "\n",
        "    def getName(self):\n",
        "        return('NAME OF STUDENT IS',self.__name)\n",
        "\n",
        "    def setRollNumber(self, rollno):\n",
        "        self.__rollno = rollno\n",
        "\n",
        "    def getRollNumber(self):\n",
        "        return ('ROLL NUMBER OF STUDENT IS:',self.__rollno)\n",
        "\n",
        "\n",
        "Student1 = Student()\n",
        "Student2 = Student()\n",
        "Student3 = Student()\n",
        "\n",
        "#1student \n",
        "Student1.setName(input('ENTER THE NAME OF STUDENT 1:'))\n",
        "Student1.setRollNumber(input('ENTER THE ROLLNUMBER OF STUDENT 1:'))\n",
        "\n",
        "print(Student1.getName())\n",
        "print(Student1.getRollNumber())\n",
        "\n",
        "#2student\n",
        "\n",
        "\n",
        "Student2.setName(input('ENTER THE NAME OF STUDENT 2:'))\n",
        "Student2.setRollNumber(input('ENTER THE ROLLNUMBER OF STUDENT 2:'))\n",
        "print(Student2.getName())\n",
        "print(Student2.getRollNumber())\n",
        "\n",
        "#3student\n",
        "\n",
        "Student3.setName(input('ENTER THE NAME OF STUDENT 3:'))\n",
        "Student3.setRollNumber(input('ENTER THE ROLLNUMBER OF STUDENT 3:'))\n",
        "print(Student3.getName())\n",
        "print(Student3.getRollNumber())\n"
      ],
      "metadata": {
        "id": "Fxil7oFLQu3G"
      },
      "execution_count": null,
      "outputs": []
    }
  ]
}