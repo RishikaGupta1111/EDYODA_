{
  "nbformat": 4,
  "nbformat_minor": 0,
  "metadata": {
    "colab": {
      "provenance": []
    },
    "kernelspec": {
      "name": "python3",
      "display_name": "Python 3"
    },
    "language_info": {
      "name": "python"
    }
  },
  "cells": [
    {
      "cell_type": "markdown",
      "source": [
        "**Challenge 4: Implement a Banking Account**"
      ],
      "metadata": {
        "id": "_7HrZGqn2Y2q"
      }
    },
    {
      "cell_type": "markdown",
      "source": [
        "Code for the above problem can be constructed as follows-"
      ],
      "metadata": {
        "id": "3j8GgUbl2m55"
      }
    },
    {
      "cell_type": "code",
      "source": [
        "class Account:                                                          #parent class\n",
        "    def __init__(self, title=0, Balance=0):                             #initializers for parent class\n",
        "      self.title = title\n",
        "      self.Balance = Balance\n",
        "    \n",
        "class SavingsAccount(Account):                                          #child class\n",
        "    def __init__(self, title=0, Balance=0, intrestrate=0):              #initializers for child class\n",
        "      super().__init__(title, Balance)                                  #initializers of child class created using initializers of parent class\n",
        "      self.intrestrate = intrestrate\n",
        "\n",
        "obj1 = Account(\"Ashish\", 5000)\n",
        "print(f\"NAME OF ACCOUNT HOLDER IS: {obj1.title} & ACCOUNT BALANCE IS: {obj1.Balance}\")\n",
        "\n",
        "obj2 = SavingsAccount(\"Ashish\", 5000, 5)\n",
        "print(f\"NAME OF THE ACCOUNT HOLDER IS: {obj2.title}, ACCOUNT BALANCE IS {obj2.Balance}, & INTREST RATE IS {obj2.intrestrate} \")"
      ],
      "metadata": {
        "id": "VQZSySBjhAur"
      },
      "execution_count": null,
      "outputs": []
    }
  ]
}