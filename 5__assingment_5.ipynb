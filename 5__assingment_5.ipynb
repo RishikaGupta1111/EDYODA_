{
  "nbformat": 4,
  "nbformat_minor": 0,
  "metadata": {
    "colab": {
      "provenance": [],
      "include_colab_link": true
    },
    "kernelspec": {
      "name": "python3",
      "display_name": "Python 3"
    },
    "language_info": {
      "name": "python"
    }
  },
  "cells": [
    {
      "cell_type": "markdown",
      "metadata": {
        "id": "view-in-github",
        "colab_type": "text"
      },
      "source": [
        "<a href=\"https://colab.research.google.com/github/RishikaGupta1111/EDYODA_/blob/main/5__assingment_5.ipynb\" target=\"_parent\"><img src=\"https://colab.research.google.com/assets/colab-badge.svg\" alt=\"Open In Colab\"/></a>"
      ]
    },
    {
      "cell_type": "markdown",
      "source": [
        "**Challenge 5: Handling a Bank Account**"
      ],
      "metadata": {
        "id": "_7HrZGqn2Y2q"
      }
    },
    {
      "cell_type": "markdown",
      "source": [
        "Code for the above problem can be constructed as follows-"
      ],
      "metadata": {
        "id": "3j8GgUbl2m55"
      }
    },
    {
      "cell_type": "code",
      "source": [
        "class Account:\n",
        "    def __init__(self, title=None, balance=0):\n",
        "        self.title = title\n",
        "        self.balance = balance\n",
        "        \n",
        "    def withdrawal(self, amount):\n",
        "      self.amount = amount\n",
        "      self.balance = self.balance - self.amount\n",
        "         \n",
        "    def deposit(self, amount):\n",
        "        self.amount = amount\n",
        "        self.balance = self.amount + self.balance\n",
        "        \n",
        "    def getbalance(self):\n",
        "        return(f'{self.title},YOUR ACCOUNT BALANCE IS {self.balance}')\n",
        "        \n",
        "\n",
        "class SavingsAccount(Account):\n",
        "    def __init__(self, title=None, balance=0, interestRate=0):\n",
        "            super().__init__(title, balance)\n",
        "            self.interestRate = interestRate\n",
        "    \n",
        "    def interestAmount(self):\n",
        "      self.intrestamount = (self.interestRate * self.balance) / 100\n",
        "      return(f'THE INTREST AMOUNT IS: {self.intrestamount}')\n",
        "\n",
        "\n",
        "#code to test - do not edit this\n",
        "demo1 = Account('Ashish', 2000)\n",
        "demo2 = SavingsAccount(\"Ashish\", 2000, 5)   # initializing a SavingsAccount object\n"
      ],
      "metadata": {
        "id": "0uT0S7aLVCJh"
      },
      "execution_count": 2,
      "outputs": []
    },
    {
      "cell_type": "code",
      "source": [
        "demo1.withdrawal(500)\n",
        "demo1.getbalance()"
      ],
      "metadata": {
        "id": "XxyMjSPTfNk8"
      },
      "execution_count": null,
      "outputs": []
    },
    {
      "cell_type": "code",
      "source": [
        "demo1.deposit(500)\n",
        "demo1.getbalance()"
      ],
      "metadata": {
        "id": "fy8T5owWfZ8p"
      },
      "execution_count": null,
      "outputs": []
    },
    {
      "cell_type": "code",
      "source": [
        "demo2.interestAmount()"
      ],
      "metadata": {
        "id": "bmrj1YXefgh7"
      },
      "execution_count": null,
      "outputs": []
    }
  ]
}