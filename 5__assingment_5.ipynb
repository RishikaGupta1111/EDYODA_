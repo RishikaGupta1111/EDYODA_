{
  "nbformat": 4,
  "nbformat_minor": 0,
  "metadata": {
    "colab": {
      "provenance": []
    },
    "kernelspec": {
      "name": "python3",
      "display_name": "Python 3"
    },
    "language_info": {
      "name": "python"
    }
  },
  "cells": [
    {
      "cell_type": "markdown",
      "source": [
        "**Challenge 5: Handling a Bank Account**"
      ],
      "metadata": {
        "id": "_7HrZGqn2Y2q"
      }
    },
    {
      "cell_type": "markdown",
      "source": [
        "Code for the above problem can be constructed as follows-"
      ],
      "metadata": {
        "id": "3j8GgUbl2m55"
      }
    },
    {
      "cell_type": "code",
      "source": [
        "class Account:\n",
        "    def __init__(self, title=None, balance=0):\n",
        "        self.title = title\n",
        "        self.balance = balance\n",
        "        \n",
        "    def withdrawal(self, amount):\n",
        "      self.amount = amount\n",
        "      self.balance = self.balance - self.amount\n",
        "         \n",
        "    def deposit(self, amount):\n",
        "        self.amount = amount\n",
        "        self.balance = self.amount + self.balance\n",
        "        \n",
        "    def getbalance(self):\n",
        "        return(f'YOUR ACCOUNT BALANCE IS {self.balance}')\n",
        "        \n",
        "\n",
        "class SavingsAccount(Account):\n",
        "    def __init__(self, title=None, balance=0, interestRate=0):\n",
        "            super().__init__(title, balance)\n",
        "            self.interestRate = interestRate\n",
        "    \n",
        "    def interestAmount(self):\n",
        "      self.intrestamount = (self.interestRate * self.balance) / 100\n",
        "      return(f'THE INTREST AMOUNT IS: {self.intrestamount}')\n",
        "\n",
        "\n",
        "#code to test - do not edit this\n",
        "demo1 = Account('Ashish', 2000)\n",
        "demo2 = SavingsAccount(\"Ashish\", 2000, 5)   # initializing a SavingsAccount object\n"
      ],
      "metadata": {
        "id": "0uT0S7aLVCJh"
      },
      "execution_count": 23,
      "outputs": []
    }
  ]
}