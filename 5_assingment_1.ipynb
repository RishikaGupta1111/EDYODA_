{
  "nbformat": 4,
  "nbformat_minor": 0,
  "metadata": {
    "colab": {
      "provenance": [],
      "authorship_tag": "ABX9TyNV5Ogvyny2PrhSgvss0EqV",
      "include_colab_link": true
    },
    "kernelspec": {
      "name": "python3",
      "display_name": "Python 3"
    },
    "language_info": {
      "name": "python"
    }
  },
  "cells": [
    {
      "cell_type": "markdown",
      "metadata": {
        "id": "view-in-github",
        "colab_type": "text"
      },
      "source": [
        "<a href=\"https://colab.research.google.com/github/RishikaGupta1111/EDYODA_/blob/main/5_assingment_1.ipynb\" target=\"_parent\"><img src=\"https://colab.research.google.com/assets/colab-badge.svg\" alt=\"Open In Colab\"/></a>"
      ]
    },
    {
      "cell_type": "markdown",
      "source": [
        "**Challenge 1: Square Numbers and Return Their Sum**"
      ],
      "metadata": {
        "id": "_7HrZGqn2Y2q"
      }
    },
    {
      "cell_type": "markdown",
      "source": [
        "Code for the above problem can be constructed as follows-"
      ],
      "metadata": {
        "id": "3j8GgUbl2m55"
      }
    },
    {
      "cell_type": "code",
      "source": [
        "class point:                      ##construction of point class\n",
        "  def __init__(self, x, y, z):    ##implementation of constructor\n",
        "    self.x = x\n",
        "    self.y = y\n",
        "    self.z = z\n",
        "\n",
        "  def sqSum(self):\n",
        "    a = self.x\n",
        "    b = self.y\n",
        "    c = self.z\n",
        "    x = a*a\n",
        "    y = b*b\n",
        "    z = c*c\n",
        "\n",
        "    sum = f'SQUARED SUM OF GIVEN NUMBERS IS: {x+y+z}'\n",
        "    return sum\n",
        "\n",
        "obj = point(1,3,5)\n",
        "print(obj.sqSum())\n"
      ],
      "metadata": {
        "id": "iT-YCPpS2sYs"
      },
      "execution_count": null,
      "outputs": []
    }
  ]
}
