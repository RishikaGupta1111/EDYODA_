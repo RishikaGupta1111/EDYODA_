{
  "nbformat": 4,
  "nbformat_minor": 0,
  "metadata": {
    "colab": {
      "provenance": [],
      "authorship_tag": "ABX9TyPwc8l/LF/sgZfHZGOXFt8s",
      "include_colab_link": true
    },
    "kernelspec": {
      "name": "python3",
      "display_name": "Python 3"
    },
    "language_info": {
      "name": "python"
    }
  },
  "cells": [
    {
      "cell_type": "markdown",
      "metadata": {
        "id": "view-in-github",
        "colab_type": "text"
      },
      "source": [
        "<a href=\"https://colab.research.google.com/github/RishikaGupta1111/EDYODA_/blob/main/5_assingment_2.ipynb\" target=\"_parent\"><img src=\"https://colab.research.google.com/assets/colab-badge.svg\" alt=\"Open In Colab\"/></a>"
      ]
    },
    {
      "cell_type": "markdown",
      "source": [
        "**Challenge 2: Implement a Calculator Class**"
      ],
      "metadata": {
        "id": "_7HrZGqn2Y2q"
      }
    },
    {
      "cell_type": "markdown",
      "source": [
        "Code for the above problem can be constructed as follows-"
      ],
      "metadata": {
        "id": "3j8GgUbl2m55"
      }
    },
    {
      "cell_type": "code",
      "source": [
        "class Calculator:\n",
        "\n",
        "    def __init__(self, num1, num2):\n",
        "        self.num1 = num1\n",
        "        self.num2 = num2\n",
        "\n",
        "\n",
        "    def add(self):\n",
        "        sum = self.num1 + self.num2\n",
        "        return sum\n",
        "\n",
        "    def subtract(self):\n",
        "        difference = self.num1 - self.num2\n",
        "        return difference\n",
        "\n",
        "    def multiply(self):\n",
        "        product = self.num1*self.num2\n",
        "        return product\n",
        "\n",
        "    def divide(self):\n",
        "        answer = self.num1 / self.num2\n",
        "        return answer\n",
        "\n",
        "obj = Calculator(10, 94)\n",
        "print(obj.add())\n",
        "print(obj.subtract())\n",
        "print(obj.multiply())\n",
        "print(obj.divide())"
      ],
      "metadata": {
        "id": "iT-YCPpS2sYs"
      },
      "execution_count": null,
      "outputs": []
    }
  ]
}