{
  "nbformat": 4,
  "nbformat_minor": 0,
  "metadata": {
    "colab": {
      "provenance": []
    },
    "kernelspec": {
      "name": "python3",
      "display_name": "Python 3"
    },
    "language_info": {
      "name": "python"
    }
  },
  "cells": [
    {
      "cell_type": "markdown",
      "source": [
        "**Q6. Read about infix, prefix, and postfix expressions. Write a program to convert postfix to prefix expression.**"
      ],
      "metadata": {
        "id": "oumojEaPo8cd"
      }
    },
    {
      "cell_type": "code",
      "source": [
        "def isOperator(x):\n",
        " \n",
        "    if x == \"+\":\n",
        "        return True\n",
        " \n",
        "    if x == \"-\":\n",
        "        return True\n",
        " \n",
        "    if x == \"/\":\n",
        "        return True\n",
        " \n",
        "    if x == \"*\":\n",
        "        return True\n",
        " \n",
        "    return False"
      ],
      "metadata": {
        "id": "Wdx3uN8rtX8b"
      },
      "execution_count": 9,
      "outputs": []
    },
    {
      "cell_type": "code",
      "source": [
        "# Convert postfix to Prefix expression\n",
        "def postToPre(post_exp):\n",
        " \n",
        "    s = []\n",
        " \n",
        "    # length of expression\n",
        "    length = len(post_exp)\n",
        " \n",
        "    # reading from right to left\n",
        "    for i in range(length):\n",
        " \n",
        "        # check if symbol is operator\n",
        "        if (isOperator(post_exp[i])):\n",
        " \n",
        "            # pop two operands from stack\n",
        "            op1 = s[-1]\n",
        "            s.pop()\n",
        "            op2 = s[-1]\n",
        "            s.pop()\n",
        " \n",
        "            # concat the operands and operator\n",
        "            temp = post_exp[i] + op2 + op1\n",
        " \n",
        "            # Push string temp back to stack\n",
        "            s.append(temp)\n",
        " \n",
        "        # if symbol is an operand\n",
        "        else:\n",
        " \n",
        "            # push the operand to the stack\n",
        "            s.append(post_exp[i])\n",
        " \n",
        "    \n",
        "    ans = \"\"\n",
        "    for i in s:\n",
        "        ans += i\n",
        "    return ans"
      ],
      "metadata": {
        "id": "ciqcV3iAtigj"
      },
      "execution_count": 10,
      "outputs": []
    },
    {
      "cell_type": "code",
      "source": [
        "# Driver Code\n",
        "if __name__ == \"__main__\":\n",
        " \n",
        "    post_exp = \"AB+CD-\"\n",
        "     \n",
        "    # Function call\n",
        "    print(\"Prefix : \", postToPre(post_exp))"
      ],
      "metadata": {
        "id": "AVL2j_Y4tl-7"
      },
      "execution_count": null,
      "outputs": []
    }
  ]
}