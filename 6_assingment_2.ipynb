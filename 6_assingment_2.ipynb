{
  "nbformat": 4,
  "nbformat_minor": 0,
  "metadata": {
    "colab": {
      "provenance": [],
      "authorship_tag": "ABX9TyON3veOAaY84ioWKlyfrlsA"
    },
    "kernelspec": {
      "name": "python3",
      "display_name": "Python 3"
    },
    "language_info": {
      "name": "python"
    }
  },
  "cells": [
    {
      "cell_type": "markdown",
      "source": [
        "**ASSIGNMENT 2**"
      ],
      "metadata": {
        "id": "tzL23ozVMdo8"
      }
    },
    {
      "cell_type": "markdown",
      "source": [
        "1. Create a class named ‘Dog’. It should have a constructor which accepts its name, age and coat color. You must perform the following operations:\n",
        "\n",
        "🔴 a. It should have a function ‘description()’ which prints the name and age of the dog.\n",
        "\n",
        "🔴 b. It should have a function ‘get_info()’ which prints the coat color of the dog.\n",
        "\n",
        "🔴 c. Create child classes ‘JackRussellTerrier’ and ‘Bulldog’ which is inherited from the class ‘Dog’. It should have at least two methods of its own.\n",
        "\n",
        "🔴 d. Create objects and implement the above functionalities."
      ],
      "metadata": {
        "id": "ODsbPsCDMdbn"
      }
    },
    {
      "cell_type": "markdown",
      "source": [
        "CODE FOR THE ABOVE MENTIONED PROBLEM CAN BE CREATED AS FOLLOWS-"
      ],
      "metadata": {
        "id": "-xj4qjGjMdQ9"
      }
    },
    {
      "cell_type": "code",
      "execution_count": null,
      "metadata": {
        "id": "0i8gTDqsG8YX"
      },
      "outputs": [],
      "source": [
        "class Dog():                                               #PARENT CLASS DOG\n",
        "    def __init__(self, name, age, coat_colour):\n",
        "        self.name = name\n",
        "        self.age = age\n",
        "        self.coat_colour = coat_colour\n",
        "\n",
        "    def description(self):                                 #DESCRIPTION FUNCTION\n",
        "        print(f\"\\nTHE NAME OF DOG IS {self.name}\")\n",
        "        print(f\"THE AGE OF DOG IS {self.age}\")\n",
        "\n",
        "    def get_info(self):                                    #GET INFO FUNCTION\n",
        "        print(f\"THE COAT COLOUR OF DOG IS {self.coat_colour}\")\n",
        "\n",
        "class JackRussellTerrier(Dog):                             #CHILD CLASS 1\n",
        "    def __init__(self, name, age, coat_colour):\n",
        "        super().__init__(name, age, coat_colour)\n",
        "      \n",
        "\n",
        "    def gender(self, gender=0):                            #METHOD 1\n",
        "        self.gender = gender\n",
        "        print(f\"GENDER OF YOUR JACKRUSSELLTERRIER NAMED {self.name}, AGED {self.age}, COLOURED {self.coat_colour}, IS {self.gender} \")\n",
        "\n",
        "    def hieght(self, hieght=0):                            #METHOD 2\n",
        "        self.hieght = hieght\n",
        "        print(f\"HIEGHT OF YOUR JACKRUSSELLTERRIER NAMED {self.name}, AGED {self.age}, COLOURED {self.coat_colour}, IS {self.hieght}\")\n",
        "\n",
        "class Bulldog(Dog):                                        #CHILD CLASS 2\n",
        "    def __init__(self, name, age, coat_colour):\n",
        "        super().__init__(name, age, coat_colour)\n",
        "        \n",
        "\n",
        "    def breed(self, breed=0):                              #METHOD 1\n",
        "        self.breed = breed\n",
        "        print(f\"BREED OF YOUR BULLDOG NAMED {self.name}, AGED {self.age}, COLOURED {self.coat_colour}, IS {self.breed}\")\n",
        "\n",
        "    def average_weight(self, average_weight=0):           #METHOD 2\n",
        "        self.average_weight = average_weight\n",
        "        print(f\"AVERAGE WEIGHT OF YOUR BULLDOG NAMED {self.name}, AGED {self.age}, COLOURED {self.coat_colour}, IS {self.average_weight}\")\n",
        "\n",
        "####test codes######\n",
        "dog1 = Dog(\"TOMMY\", \"3yrs\", \"WHITE\")\n",
        "dog2 = JackRussellTerrier(\"PLUTO\", \"13months\", \"BLACK\")\n",
        "dog3 = Bulldog(\"AKBAR\", \"2yrs\",\"BROWN\")\n",
        "\n",
        "###### IMPLEMENTATION OF PARENT CLASS####\n",
        "dog1.description()\n",
        "dog1.get_info()\n",
        "\n",
        "###### IMPLEMENTATION OF CHILD CLASS JACKRUSSELLTERRIER #####\n",
        "dog2.description()\n",
        "dog2.get_info()\n",
        "dog2.gender('MALE')\n",
        "dog2.hieght('3.3inches')\n",
        "\n",
        "##### IMPLEMENTATION OF CHILD CLASS BULLDOG ######\n",
        "dog3.description()\n",
        "dog3.get_info()\n",
        "dog3.breed('ENGLISH BULLDOG')\n",
        "dog3.average_weight('11kgs')\n",
        "\n",
        "\n",
        "\n"
      ]
    }
  ]
}
