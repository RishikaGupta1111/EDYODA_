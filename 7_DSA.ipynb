{
  "nbformat": 4,
  "nbformat_minor": 0,
  "metadata": {
    "colab": {
      "provenance": []
    },
    "kernelspec": {
      "name": "python3",
      "display_name": "Python 3"
    },
    "language_info": {
      "name": "python"
    }
  },
  "cells": [
    {
      "cell_type": "markdown",
      "source": [
        "**Q7. Write a program to convert prefix expression to infix expression.**"
      ],
      "metadata": {
        "id": "oumojEaPo8cd"
      }
    },
    {
      "cell_type": "code",
      "source": [
        "def prefixToInfix(prefix):\n",
        "    stack = []\n",
        "     \n",
        "    # read prefix in reverse order\n",
        "    i = len(prefix) - 1\n",
        "    while i >= 0:\n",
        "        if not isOperator(prefix[i]):\n",
        "             \n",
        "            # symbol is operand\n",
        "            stack.append(prefix[i])\n",
        "            i -= 1\n",
        "        else:\n",
        "           \n",
        "            # symbol is operator\n",
        "            str = \"(\" + stack.pop() + prefix[i] + stack.pop() + \")\"\n",
        "            stack.append(str)\n",
        "            i -= 1\n",
        "     \n",
        "    return stack.pop()\n",
        " \n",
        "def isOperator(c):\n",
        "    if c == \"*\" or c == \"+\" or c == \"-\" or c == \"/\" or c == \"^\" or c == \"(\" or c == \")\":\n",
        "        return True\n",
        "    else:\n",
        "        return False\n",
        " \n",
        "# Driver code\n",
        "if __name__==\"__main__\":\n",
        "    str = \"*-A/BC-/AKL\"\n",
        "    print(prefixToInfix(str))"
      ],
      "metadata": {
        "id": "jajiRbSvv-GN"
      },
      "execution_count": null,
      "outputs": []
    }
  ]
}