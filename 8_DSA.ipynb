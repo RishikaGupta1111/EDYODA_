{
  "nbformat": 4,
  "nbformat_minor": 0,
  "metadata": {
    "colab": {
      "provenance": []
    },
    "kernelspec": {
      "name": "python3",
      "display_name": "Python 3"
    },
    "language_info": {
      "name": "python"
    }
  },
  "cells": [
    {
      "cell_type": "markdown",
      "source": [
        "**Q8. Write a program to check if all the brackets are closed in a given code snippet.**"
      ],
      "metadata": {
        "id": "oumojEaPo8cd"
      }
    },
    {
      "cell_type": "code",
      "source": [
        " \n",
        "def areBracketsBalanced(expr):\n",
        "    stack = []\n",
        " \n",
        "    # Traversing the Expression\n",
        "    for char in expr:\n",
        "        if char in [\"(\", \"{\", \"[\"]:\n",
        " \n",
        "            # Push the element in the stack\n",
        "            stack.append(char)\n",
        "        else:\n",
        " \n",
        "            if not stack:\n",
        "                return False\n",
        "            current_char = stack.pop()\n",
        "            if current_char == '(':\n",
        "                if char != \")\":\n",
        "                    return False\n",
        "            if current_char == '{':\n",
        "                if char != \"}\":\n",
        "                    return False\n",
        "            if current_char == '[':\n",
        "                if char != \"]\":\n",
        "                    return False\n",
        " \n",
        "    # Check Empty Stack\n",
        "    if stack:\n",
        "        return False\n",
        "    return True\n",
        " \n",
        " \n",
        "# Driver Code\n",
        "if __name__ == \"__main__\":\n",
        "    expr = \"{(}[]\"\n",
        " \n",
        "    # Function call\n",
        "    if areBracketsBalanced(expr):\n",
        "        print(\" All the brackets are closed...!\")\n",
        "    else:\n",
        "        print(\" All the brackets are not closed...!\")"
      ],
      "metadata": {
        "id": "MwnAaQ1Mwb0Z"
      },
      "execution_count": null,
      "outputs": []
    }
  ]
}