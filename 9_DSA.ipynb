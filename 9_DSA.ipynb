{
  "nbformat": 4,
  "nbformat_minor": 0,
  "metadata": {
    "colab": {
      "provenance": []
    },
    "kernelspec": {
      "name": "python3",
      "display_name": "Python 3"
    },
    "language_info": {
      "name": "python"
    }
  },
  "cells": [
    {
      "cell_type": "markdown",
      "source": [
        "**Q9. Write a program to reverse a stack.**"
      ],
      "metadata": {
        "id": "LkJOe2TLvjJo"
      }
    },
    {
      "cell_type": "code",
      "source": [
        "# create class for stack\n",
        "class Stack:\n",
        "\n",
        "\t# create empty list\n",
        "\tdef __init__(self):\n",
        "\t\tself.Elements = []\n",
        "\t\t\n",
        "\t# push() for inserting an element\n",
        "\tdef push(self, value):\n",
        "\t\tself.Elements.append(value)\n",
        "\t\n",
        "\t# pop() for removing an element\n",
        "\tdef pop(self):\n",
        "\t\treturn self.Elements.pop()\n",
        "\t\n",
        "\t# empty() to check the stack is empty of not\n",
        "\tdef empty(self):\n",
        "\t\treturn self.Elements == []\n",
        "\t\n",
        "\t# show() to display stack\n",
        "\tdef show(self):\n",
        "\t\tfor value in reversed(self.Elements):\n",
        "\t\t\tprint(value)\n",
        "\n",
        "# Insert_Bottom() to insert value at bottom\n",
        "def BottomInsert(s, value):\n",
        "\n",
        "\t# check the stack is empty or not\n",
        "\tif s.empty():\n",
        "\t\t\n",
        "\t\t# if stack is empty then call\n",
        "\t\t# push() method.\n",
        "\t\ts.push(value)\n",
        "\t\t\n",
        "\t# if stack is not empty then execute\n",
        "\t# else block\n",
        "\telse:\n",
        "\t\tpopped = s.pop()\n",
        "\t\tBottomInsert(s, value)\n",
        "\t\ts.push(popped)\n",
        "\n",
        "# Reverse() reverse the stack\n",
        "def Reverse(s):\n",
        "\tif s.empty():\n",
        "\t\tpass\n",
        "\telse:\n",
        "\t\tpopped = s.pop()\n",
        "\t\tReverse(s)\n",
        "\t\tBottomInsert(s, popped)\n",
        "\n",
        "\n",
        "# create object of stack class\n",
        "stk = Stack()\n",
        "\n",
        "stk.push(6)\n",
        "stk.push(7)\n",
        "stk.push(8)\n",
        "stk.push(9)\n",
        "stk.push(23)\n",
        "\n",
        "print(\"Original Stack\")\n",
        "stk.show()\n",
        "\n",
        "print(\"\\nStack after Reversing\")\n",
        "Reverse(stk)\n",
        "stk.show()\n"
      ],
      "metadata": {
        "id": "JMVTXNHE33e-"
      },
      "execution_count": null,
      "outputs": []
    }
  ]
}